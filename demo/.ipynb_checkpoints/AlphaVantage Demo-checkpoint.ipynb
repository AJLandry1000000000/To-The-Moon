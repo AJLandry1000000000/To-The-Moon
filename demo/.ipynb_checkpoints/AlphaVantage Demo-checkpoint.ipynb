{
 "cells": [
  {
   "cell_type": "code",
   "execution_count": 1,
   "id": "greater-edmonton",
   "metadata": {},
   "outputs": [],
   "source": [
    "import sys\n",
    "import json\n",
    "from datetime import date\n",
    "\n",
    "import pandas as pd\n",
    "import matplotlib.pyplot as plt\n",
    "from alpha_vantage.timeseries import TimeSeries\n",
    "from alpha_vantage.fundamentaldata import FundamentalData\n",
    "from IPython.display import display "
   ]
  },
  {
   "cell_type": "code",
   "execution_count": 2,
   "id": "standard-questionnaire",
   "metadata": {},
   "outputs": [],
   "source": [
    "api_key = '1PRBO66RYM7SV7B9'\n",
    "history_points = 30"
   ]
  },
  {
   "cell_type": "code",
   "execution_count": 3,
   "id": "arctic-worker",
   "metadata": {},
   "outputs": [],
   "source": [
    "def save_json(company_name, data, label=\"generic\"): \n",
    "    with open(f'./{company_name}_{label}_{date.today().strftime(\"%Y%m%d\")}.json', 'w') as outfile: \n",
    "        json.dump(data, outfile)"
   ]
  },
  {
   "cell_type": "code",
   "execution_count": 4,
   "id": "subsequent-offense",
   "metadata": {},
   "outputs": [],
   "source": [
    "company_name = 'TSLA'"
   ]
  },
  {
   "cell_type": "code",
   "execution_count": 5,
   "id": "ceramic-mercury",
   "metadata": {},
   "outputs": [],
   "source": [
    "ts = TimeSeries(key=api_key)\n",
    "data, metadata = ts.get_daily_adjusted(company_name, outputsize='full')"
   ]
  },
  {
   "cell_type": "code",
   "execution_count": 152,
   "id": "western-nursing",
   "metadata": {},
   "outputs": [
    {
     "data": {
      "text/plain": [
       "{'1. Information': 'Daily Time Series with Splits and Dividend Events',\n",
       " '2. Symbol': 'TSLA',\n",
       " '3. Last Refreshed': '2021-03-11',\n",
       " '4. Output Size': 'Full size',\n",
       " '5. Time Zone': 'US/Eastern'}"
      ]
     },
     "execution_count": 152,
     "metadata": {},
     "output_type": "execute_result"
    }
   ],
   "source": [
    "metadata"
   ]
  },
  {
   "cell_type": "code",
   "execution_count": 6,
   "id": "general-shock",
   "metadata": {},
   "outputs": [],
   "source": [
    "fd = FundamentalData(key=api_key)\n",
    "data = fd.get_company_overview(company_name)"
   ]
  },
  {
   "cell_type": "code",
   "execution_count": null,
   "id": "proprietary-listing",
   "metadata": {},
   "outputs": [],
   "source": [
    "data"
   ]
  },
  {
   "cell_type": "code",
   "execution_count": 7,
   "id": "liberal-scale",
   "metadata": {},
   "outputs": [],
   "source": [
    "save_json(company_name, data, label=\"daily_adjusted\")"
   ]
  },
  {
   "cell_type": "code",
   "execution_count": null,
   "id": "human-attempt",
   "metadata": {},
   "outputs": [],
   "source": [
    "fd = FundamentalData(company_name)\n",
    "data = fd.get_company_overview(company_name)"
   ]
  },
  {
   "cell_type": "code",
   "execution_count": 8,
   "id": "naval-performer",
   "metadata": {},
   "outputs": [],
   "source": [
    "# if storing raw this would be data, metadata = data_raw\n",
    "def load_json_dict(filename):\n",
    "    with open(filename, 'r') as infile:\n",
    "        data = json.load(infile)\n",
    "        return data\n",
    "\n",
    "def dict_to_dataframe(data): \n",
    "    df = pd.DataFrame.from_dict(data, orient='index').astype('float')\n",
    "    return df"
   ]
  },
  {
   "cell_type": "code",
   "execution_count": 6,
   "id": "happy-sleep",
   "metadata": {},
   "outputs": [],
   "source": [
    "AMZN_data = load_json_dict('AMZN_daily_adjusted_20210305.json')\n",
    "\n",
    "AMZN_df = dict_to_dataframe(AMZN_data)"
   ]
  },
  {
   "cell_type": "code",
   "execution_count": 9,
   "id": "raising-scenario",
   "metadata": {},
   "outputs": [],
   "source": [
    "TSLA_df = dict_to_dataframe(data)"
   ]
  },
  {
   "cell_type": "code",
   "execution_count": 39,
   "id": "ecological-manor",
   "metadata": {},
   "outputs": [],
   "source": [
    "TSLA_df = TSLA_df.reindex(index=TSLA_df.index[::-1])"
   ]
  },
  {
   "cell_type": "code",
   "execution_count": 74,
   "id": "ongoing-fourth",
   "metadata": {
    "scrolled": true
   },
   "outputs": [
    {
     "data": {
      "text/html": [
       "<div>\n",
       "<style scoped>\n",
       "    .dataframe tbody tr th:only-of-type {\n",
       "        vertical-align: middle;\n",
       "    }\n",
       "\n",
       "    .dataframe tbody tr th {\n",
       "        vertical-align: top;\n",
       "    }\n",
       "\n",
       "    .dataframe thead th {\n",
       "        text-align: right;\n",
       "    }\n",
       "</style>\n",
       "<table border=\"1\" class=\"dataframe\">\n",
       "  <thead>\n",
       "    <tr style=\"text-align: right;\">\n",
       "      <th></th>\n",
       "      <th>1. open</th>\n",
       "      <th>2. high</th>\n",
       "      <th>3. low</th>\n",
       "      <th>4. close</th>\n",
       "      <th>5. adjusted close</th>\n",
       "      <th>6. volume</th>\n",
       "      <th>7. dividend amount</th>\n",
       "      <th>8. split coefficient</th>\n",
       "      <th>timestamps</th>\n",
       "    </tr>\n",
       "  </thead>\n",
       "  <tbody>\n",
       "    <tr>\n",
       "      <th>2020-03-11</th>\n",
       "      <td>640.20</td>\n",
       "      <td>653.5800</td>\n",
       "      <td>613.00</td>\n",
       "      <td>634.23</td>\n",
       "      <td>126.846</td>\n",
       "      <td>13322500.0</td>\n",
       "      <td>0.0</td>\n",
       "      <td>1.0</td>\n",
       "      <td>NaN</td>\n",
       "    </tr>\n",
       "    <tr>\n",
       "      <th>2020-03-12</th>\n",
       "      <td>580.89</td>\n",
       "      <td>594.5000</td>\n",
       "      <td>546.25</td>\n",
       "      <td>560.55</td>\n",
       "      <td>112.110</td>\n",
       "      <td>18909100.0</td>\n",
       "      <td>0.0</td>\n",
       "      <td>1.0</td>\n",
       "      <td>NaN</td>\n",
       "    </tr>\n",
       "    <tr>\n",
       "      <th>2020-03-13</th>\n",
       "      <td>595.00</td>\n",
       "      <td>607.5700</td>\n",
       "      <td>502.00</td>\n",
       "      <td>546.62</td>\n",
       "      <td>109.324</td>\n",
       "      <td>22640300.0</td>\n",
       "      <td>0.0</td>\n",
       "      <td>1.0</td>\n",
       "      <td>NaN</td>\n",
       "    </tr>\n",
       "    <tr>\n",
       "      <th>2020-03-16</th>\n",
       "      <td>469.50</td>\n",
       "      <td>494.8700</td>\n",
       "      <td>442.17</td>\n",
       "      <td>445.07</td>\n",
       "      <td>89.014</td>\n",
       "      <td>20489500.0</td>\n",
       "      <td>0.0</td>\n",
       "      <td>1.0</td>\n",
       "      <td>NaN</td>\n",
       "    </tr>\n",
       "    <tr>\n",
       "      <th>2020-03-17</th>\n",
       "      <td>440.01</td>\n",
       "      <td>471.8500</td>\n",
       "      <td>396.00</td>\n",
       "      <td>430.20</td>\n",
       "      <td>86.040</td>\n",
       "      <td>23994600.0</td>\n",
       "      <td>0.0</td>\n",
       "      <td>1.0</td>\n",
       "      <td>NaN</td>\n",
       "    </tr>\n",
       "    <tr>\n",
       "      <th>...</th>\n",
       "      <td>...</td>\n",
       "      <td>...</td>\n",
       "      <td>...</td>\n",
       "      <td>...</td>\n",
       "      <td>...</td>\n",
       "      <td>...</td>\n",
       "      <td>...</td>\n",
       "      <td>...</td>\n",
       "      <td>...</td>\n",
       "    </tr>\n",
       "    <tr>\n",
       "      <th>2021-03-05</th>\n",
       "      <td>626.06</td>\n",
       "      <td>627.8419</td>\n",
       "      <td>539.49</td>\n",
       "      <td>597.95</td>\n",
       "      <td>597.950</td>\n",
       "      <td>89396459.0</td>\n",
       "      <td>0.0</td>\n",
       "      <td>1.0</td>\n",
       "      <td>NaN</td>\n",
       "    </tr>\n",
       "    <tr>\n",
       "      <th>2021-03-08</th>\n",
       "      <td>600.55</td>\n",
       "      <td>620.1250</td>\n",
       "      <td>558.79</td>\n",
       "      <td>563.00</td>\n",
       "      <td>563.000</td>\n",
       "      <td>51786958.0</td>\n",
       "      <td>0.0</td>\n",
       "      <td>1.0</td>\n",
       "      <td>NaN</td>\n",
       "    </tr>\n",
       "    <tr>\n",
       "      <th>2021-03-09</th>\n",
       "      <td>608.18</td>\n",
       "      <td>678.0900</td>\n",
       "      <td>595.21</td>\n",
       "      <td>673.58</td>\n",
       "      <td>673.580</td>\n",
       "      <td>67523328.0</td>\n",
       "      <td>0.0</td>\n",
       "      <td>1.0</td>\n",
       "      <td>NaN</td>\n",
       "    </tr>\n",
       "    <tr>\n",
       "      <th>2021-03-10</th>\n",
       "      <td>700.30</td>\n",
       "      <td>717.8500</td>\n",
       "      <td>655.06</td>\n",
       "      <td>668.06</td>\n",
       "      <td>668.060</td>\n",
       "      <td>60605672.0</td>\n",
       "      <td>0.0</td>\n",
       "      <td>1.0</td>\n",
       "      <td>NaN</td>\n",
       "    </tr>\n",
       "    <tr>\n",
       "      <th>2021-03-11</th>\n",
       "      <td>699.40</td>\n",
       "      <td>702.5000</td>\n",
       "      <td>677.18</td>\n",
       "      <td>699.60</td>\n",
       "      <td>699.600</td>\n",
       "      <td>35852261.0</td>\n",
       "      <td>0.0</td>\n",
       "      <td>1.0</td>\n",
       "      <td>NaN</td>\n",
       "    </tr>\n",
       "  </tbody>\n",
       "</table>\n",
       "<p>253 rows × 9 columns</p>\n",
       "</div>"
      ],
      "text/plain": [
       "            1. open   2. high  3. low  4. close  5. adjusted close  \\\n",
       "2020-03-11   640.20  653.5800  613.00    634.23            126.846   \n",
       "2020-03-12   580.89  594.5000  546.25    560.55            112.110   \n",
       "2020-03-13   595.00  607.5700  502.00    546.62            109.324   \n",
       "2020-03-16   469.50  494.8700  442.17    445.07             89.014   \n",
       "2020-03-17   440.01  471.8500  396.00    430.20             86.040   \n",
       "...             ...       ...     ...       ...                ...   \n",
       "2021-03-05   626.06  627.8419  539.49    597.95            597.950   \n",
       "2021-03-08   600.55  620.1250  558.79    563.00            563.000   \n",
       "2021-03-09   608.18  678.0900  595.21    673.58            673.580   \n",
       "2021-03-10   700.30  717.8500  655.06    668.06            668.060   \n",
       "2021-03-11   699.40  702.5000  677.18    699.60            699.600   \n",
       "\n",
       "             6. volume  7. dividend amount  8. split coefficient timestamps  \n",
       "2020-03-11  13322500.0                 0.0                   1.0        NaN  \n",
       "2020-03-12  18909100.0                 0.0                   1.0        NaN  \n",
       "2020-03-13  22640300.0                 0.0                   1.0        NaN  \n",
       "2020-03-16  20489500.0                 0.0                   1.0        NaN  \n",
       "2020-03-17  23994600.0                 0.0                   1.0        NaN  \n",
       "...                ...                 ...                   ...        ...  \n",
       "2021-03-05  89396459.0                 0.0                   1.0        NaN  \n",
       "2021-03-08  51786958.0                 0.0                   1.0        NaN  \n",
       "2021-03-09  67523328.0                 0.0                   1.0        NaN  \n",
       "2021-03-10  60605672.0                 0.0                   1.0        NaN  \n",
       "2021-03-11  35852261.0                 0.0                   1.0        NaN  \n",
       "\n",
       "[253 rows x 9 columns]"
      ]
     },
     "execution_count": 74,
     "metadata": {},
     "output_type": "execute_result"
    }
   ],
   "source": [
    "TSLA_df.loc['2020-03-11':'2021-03-11']"
   ]
  },
  {
   "cell_type": "code",
   "execution_count": 145,
   "id": "completed-sampling",
   "metadata": {},
   "outputs": [],
   "source": [
    "TSLA_df_dt = TSLA_df.copy()\n",
    "\n",
    "TSLA_df_dt.index = pd.to_datetime(TSLA_df.index)"
   ]
  },
  {
   "cell_type": "code",
   "execution_count": 146,
   "id": "indirect-gather",
   "metadata": {},
   "outputs": [
    {
     "data": {
      "text/plain": [
       "1. open                      640.2\n",
       "2. high                     653.58\n",
       "3. low                       613.0\n",
       "4. close                    634.23\n",
       "5. adjusted close          126.846\n",
       "6. volume               13322500.0\n",
       "7. dividend amount             0.0\n",
       "8. split coefficient           1.0\n",
       "timestamps                     NaN\n",
       "Name: 2020-03-11 00:00:00, dtype: object"
      ]
     },
     "execution_count": 146,
     "metadata": {},
     "output_type": "execute_result"
    }
   ],
   "source": [
    "TSLA_df_dt.loc['2020-03-11']"
   ]
  },
  {
   "cell_type": "code",
   "execution_count": 151,
   "id": "bibliographic-lesson",
   "metadata": {},
   "outputs": [
    {
     "data": {
      "text/plain": [
       "699.6"
      ]
     },
     "execution_count": 151,
     "metadata": {},
     "output_type": "execute_result"
    }
   ],
   "source": [
    "TSLA_df_dt.iloc[-1]['4. close']"
   ]
  },
  {
   "cell_type": "code",
   "execution_count": 123,
   "id": "federal-rolling",
   "metadata": {},
   "outputs": [
    {
     "data": {
      "text/plain": [
       "Timestamp('2020-03-02 00:00:00')"
      ]
     },
     "execution_count": 123,
     "metadata": {},
     "output_type": "execute_result"
    }
   ],
   "source": [
    "TSLA_df_dt.index[-260]"
   ]
  },
  {
   "cell_type": "code",
   "execution_count": 141,
   "id": "furnished-draft",
   "metadata": {},
   "outputs": [
    {
     "data": {
      "text/html": [
       "<div>\n",
       "<style scoped>\n",
       "    .dataframe tbody tr th:only-of-type {\n",
       "        vertical-align: middle;\n",
       "    }\n",
       "\n",
       "    .dataframe tbody tr th {\n",
       "        vertical-align: top;\n",
       "    }\n",
       "\n",
       "    .dataframe thead th {\n",
       "        text-align: right;\n",
       "    }\n",
       "</style>\n",
       "<table border=\"1\" class=\"dataframe\">\n",
       "  <thead>\n",
       "    <tr style=\"text-align: right;\">\n",
       "      <th></th>\n",
       "      <th>1. open</th>\n",
       "      <th>2. high</th>\n",
       "      <th>3. low</th>\n",
       "      <th>4. close</th>\n",
       "      <th>5. adjusted close</th>\n",
       "      <th>6. volume</th>\n",
       "      <th>7. dividend amount</th>\n",
       "      <th>8. split coefficient</th>\n",
       "      <th>timestamps</th>\n",
       "    </tr>\n",
       "  </thead>\n",
       "  <tbody>\n",
       "    <tr>\n",
       "      <th>2020-03-12</th>\n",
       "      <td>580.89</td>\n",
       "      <td>594.5000</td>\n",
       "      <td>546.25</td>\n",
       "      <td>560.55</td>\n",
       "      <td>112.110</td>\n",
       "      <td>18909100.0</td>\n",
       "      <td>0.0</td>\n",
       "      <td>1.0</td>\n",
       "      <td>NaN</td>\n",
       "    </tr>\n",
       "    <tr>\n",
       "      <th>2020-03-13</th>\n",
       "      <td>595.00</td>\n",
       "      <td>607.5700</td>\n",
       "      <td>502.00</td>\n",
       "      <td>546.62</td>\n",
       "      <td>109.324</td>\n",
       "      <td>22640300.0</td>\n",
       "      <td>0.0</td>\n",
       "      <td>1.0</td>\n",
       "      <td>NaN</td>\n",
       "    </tr>\n",
       "    <tr>\n",
       "      <th>2020-03-16</th>\n",
       "      <td>469.50</td>\n",
       "      <td>494.8700</td>\n",
       "      <td>442.17</td>\n",
       "      <td>445.07</td>\n",
       "      <td>89.014</td>\n",
       "      <td>20489500.0</td>\n",
       "      <td>0.0</td>\n",
       "      <td>1.0</td>\n",
       "      <td>NaN</td>\n",
       "    </tr>\n",
       "    <tr>\n",
       "      <th>2020-03-17</th>\n",
       "      <td>440.01</td>\n",
       "      <td>471.8500</td>\n",
       "      <td>396.00</td>\n",
       "      <td>430.20</td>\n",
       "      <td>86.040</td>\n",
       "      <td>23994600.0</td>\n",
       "      <td>0.0</td>\n",
       "      <td>1.0</td>\n",
       "      <td>NaN</td>\n",
       "    </tr>\n",
       "    <tr>\n",
       "      <th>2020-03-18</th>\n",
       "      <td>389.00</td>\n",
       "      <td>404.8600</td>\n",
       "      <td>350.51</td>\n",
       "      <td>361.22</td>\n",
       "      <td>72.244</td>\n",
       "      <td>23786200.0</td>\n",
       "      <td>0.0</td>\n",
       "      <td>1.0</td>\n",
       "      <td>NaN</td>\n",
       "    </tr>\n",
       "    <tr>\n",
       "      <th>...</th>\n",
       "      <td>...</td>\n",
       "      <td>...</td>\n",
       "      <td>...</td>\n",
       "      <td>...</td>\n",
       "      <td>...</td>\n",
       "      <td>...</td>\n",
       "      <td>...</td>\n",
       "      <td>...</td>\n",
       "      <td>...</td>\n",
       "    </tr>\n",
       "    <tr>\n",
       "      <th>2021-03-05</th>\n",
       "      <td>626.06</td>\n",
       "      <td>627.8419</td>\n",
       "      <td>539.49</td>\n",
       "      <td>597.95</td>\n",
       "      <td>597.950</td>\n",
       "      <td>89396459.0</td>\n",
       "      <td>0.0</td>\n",
       "      <td>1.0</td>\n",
       "      <td>NaN</td>\n",
       "    </tr>\n",
       "    <tr>\n",
       "      <th>2021-03-08</th>\n",
       "      <td>600.55</td>\n",
       "      <td>620.1250</td>\n",
       "      <td>558.79</td>\n",
       "      <td>563.00</td>\n",
       "      <td>563.000</td>\n",
       "      <td>51786958.0</td>\n",
       "      <td>0.0</td>\n",
       "      <td>1.0</td>\n",
       "      <td>NaN</td>\n",
       "    </tr>\n",
       "    <tr>\n",
       "      <th>2021-03-09</th>\n",
       "      <td>608.18</td>\n",
       "      <td>678.0900</td>\n",
       "      <td>595.21</td>\n",
       "      <td>673.58</td>\n",
       "      <td>673.580</td>\n",
       "      <td>67523328.0</td>\n",
       "      <td>0.0</td>\n",
       "      <td>1.0</td>\n",
       "      <td>NaN</td>\n",
       "    </tr>\n",
       "    <tr>\n",
       "      <th>2021-03-10</th>\n",
       "      <td>700.30</td>\n",
       "      <td>717.8500</td>\n",
       "      <td>655.06</td>\n",
       "      <td>668.06</td>\n",
       "      <td>668.060</td>\n",
       "      <td>60605672.0</td>\n",
       "      <td>0.0</td>\n",
       "      <td>1.0</td>\n",
       "      <td>NaN</td>\n",
       "    </tr>\n",
       "    <tr>\n",
       "      <th>2021-03-11</th>\n",
       "      <td>699.40</td>\n",
       "      <td>702.5000</td>\n",
       "      <td>677.18</td>\n",
       "      <td>699.60</td>\n",
       "      <td>699.600</td>\n",
       "      <td>35852261.0</td>\n",
       "      <td>0.0</td>\n",
       "      <td>1.0</td>\n",
       "      <td>NaN</td>\n",
       "    </tr>\n",
       "  </tbody>\n",
       "</table>\n",
       "<p>252 rows × 9 columns</p>\n",
       "</div>"
      ],
      "text/plain": [
       "            1. open   2. high  3. low  4. close  5. adjusted close  \\\n",
       "2020-03-12   580.89  594.5000  546.25    560.55            112.110   \n",
       "2020-03-13   595.00  607.5700  502.00    546.62            109.324   \n",
       "2020-03-16   469.50  494.8700  442.17    445.07             89.014   \n",
       "2020-03-17   440.01  471.8500  396.00    430.20             86.040   \n",
       "2020-03-18   389.00  404.8600  350.51    361.22             72.244   \n",
       "...             ...       ...     ...       ...                ...   \n",
       "2021-03-05   626.06  627.8419  539.49    597.95            597.950   \n",
       "2021-03-08   600.55  620.1250  558.79    563.00            563.000   \n",
       "2021-03-09   608.18  678.0900  595.21    673.58            673.580   \n",
       "2021-03-10   700.30  717.8500  655.06    668.06            668.060   \n",
       "2021-03-11   699.40  702.5000  677.18    699.60            699.600   \n",
       "\n",
       "             6. volume  7. dividend amount  8. split coefficient timestamps  \n",
       "2020-03-12  18909100.0                 0.0                   1.0        NaN  \n",
       "2020-03-13  22640300.0                 0.0                   1.0        NaN  \n",
       "2020-03-16  20489500.0                 0.0                   1.0        NaN  \n",
       "2020-03-17  23994600.0                 0.0                   1.0        NaN  \n",
       "2020-03-18  23786200.0                 0.0                   1.0        NaN  \n",
       "...                ...                 ...                   ...        ...  \n",
       "2021-03-05  89396459.0                 0.0                   1.0        NaN  \n",
       "2021-03-08  51786958.0                 0.0                   1.0        NaN  \n",
       "2021-03-09  67523328.0                 0.0                   1.0        NaN  \n",
       "2021-03-10  60605672.0                 0.0                   1.0        NaN  \n",
       "2021-03-11  35852261.0                 0.0                   1.0        NaN  \n",
       "\n",
       "[252 rows x 9 columns]"
      ]
     },
     "execution_count": 141,
     "metadata": {},
     "output_type": "execute_result"
    }
   ],
   "source": [
    "TSLA_df_dt.last('365D')"
   ]
  },
  {
   "cell_type": "code",
   "execution_count": 143,
   "id": "catholic-commonwealth",
   "metadata": {},
   "outputs": [
    {
     "data": {
      "text/plain": [
       "809.4125793650794"
      ]
     },
     "execution_count": 143,
     "metadata": {},
     "output_type": "execute_result"
    }
   ],
   "source": [
    "TSLA_df_dt.last('365D')['4. close'].mean()"
   ]
  },
  {
   "cell_type": "code",
   "execution_count": 144,
   "id": "temporal-filling",
   "metadata": {},
   "outputs": [
    {
     "data": {
      "text/html": [
       "<div>\n",
       "<style scoped>\n",
       "    .dataframe tbody tr th:only-of-type {\n",
       "        vertical-align: middle;\n",
       "    }\n",
       "\n",
       "    .dataframe tbody tr th {\n",
       "        vertical-align: top;\n",
       "    }\n",
       "\n",
       "    .dataframe thead th {\n",
       "        text-align: right;\n",
       "    }\n",
       "</style>\n",
       "<table border=\"1\" class=\"dataframe\">\n",
       "  <thead>\n",
       "    <tr style=\"text-align: right;\">\n",
       "      <th></th>\n",
       "      <th>1. open</th>\n",
       "      <th>2. high</th>\n",
       "      <th>3. low</th>\n",
       "      <th>4. close</th>\n",
       "      <th>5. adjusted close</th>\n",
       "      <th>6. volume</th>\n",
       "      <th>7. dividend amount</th>\n",
       "      <th>8. split coefficient</th>\n",
       "      <th>timestamps</th>\n",
       "    </tr>\n",
       "  </thead>\n",
       "  <tbody>\n",
       "    <tr>\n",
       "      <th>2021-03-11</th>\n",
       "      <td>699.4</td>\n",
       "      <td>702.5</td>\n",
       "      <td>677.18</td>\n",
       "      <td>699.6</td>\n",
       "      <td>699.6</td>\n",
       "      <td>35852261.0</td>\n",
       "      <td>0.0</td>\n",
       "      <td>1.0</td>\n",
       "      <td>NaN</td>\n",
       "    </tr>\n",
       "  </tbody>\n",
       "</table>\n",
       "</div>"
      ],
      "text/plain": [
       "            1. open  2. high  3. low  4. close  5. adjusted close   6. volume  \\\n",
       "2021-03-11    699.4    702.5  677.18     699.6              699.6  35852261.0   \n",
       "\n",
       "            7. dividend amount  8. split coefficient timestamps  \n",
       "2021-03-11                 0.0                   1.0        NaN  "
      ]
     },
     "execution_count": 144,
     "metadata": {},
     "output_type": "execute_result"
    }
   ],
   "source": [
    "TSLA_df_dt.last('1D')"
   ]
  },
  {
   "cell_type": "code",
   "execution_count": 115,
   "id": "through-collectible",
   "metadata": {},
   "outputs": [
    {
     "data": {
      "text/plain": [
       "<pandas.core.groupby.generic.DataFrameGroupBy object at 0x000002B67E5BBF10>"
      ]
     },
     "metadata": {},
     "output_type": "display_data"
    }
   ],
   "source": [
    "TSLA_df_dt.groupby(TSLA_df_dt.index.year)"
   ]
  },
  {
   "cell_type": "code",
   "execution_count": 28,
   "id": "ordered-playlist",
   "metadata": {},
   "outputs": [
    {
     "data": {
      "text/plain": [
       "[['2021-03-04', 2977.57],\n",
       " ['2021-03-03', 3005.0],\n",
       " ['2021-03-02', 3094.53],\n",
       " ['2021-03-01', 3146.14],\n",
       " ['2021-02-26', 3092.93],\n",
       " ['2021-02-25', 3057.16],\n",
       " ['2021-02-24', 3159.53],\n",
       " ['2021-02-23', 3194.5],\n",
       " ['2021-02-22', 3180.74],\n",
       " ['2021-02-19', 3249.9]]"
      ]
     },
     "execution_count": 28,
     "metadata": {},
     "output_type": "execute_result"
    }
   ],
   "source": [
    "df = AMZN_df.head(10)\n",
    "series = df['4. close']\n",
    "series.reset_index().values.tolist()"
   ]
  },
  {
   "cell_type": "code",
   "execution_count": 35,
   "id": "molecular-daisy",
   "metadata": {},
   "outputs": [
    {
     "data": {
      "text/plain": [
       "0   2021-03-04\n",
       "1   2021-03-03\n",
       "2   2021-03-02\n",
       "3   2021-03-01\n",
       "4   2021-02-26\n",
       "5   2021-02-25\n",
       "6   2021-02-24\n",
       "7   2021-02-23\n",
       "8   2021-02-22\n",
       "9   2021-02-19\n",
       "Name: index, dtype: datetime64[ns]"
      ]
     },
     "execution_count": 35,
     "metadata": {},
     "output_type": "execute_result"
    }
   ],
   "source": [
    "pd.to_datetime(series.reset_index()['index'])"
   ]
  },
  {
   "cell_type": "code",
   "execution_count": 12,
   "id": "academic-onion",
   "metadata": {},
   "outputs": [
    {
     "data": {
      "image/png": "[encoded data removed]",
      "text/plain": [
       "<Figure size 460.8x345.6 with 1 Axes>"
      ]
     },
     "metadata": {
      "needs_background": "light"
     },
     "output_type": "display_data"
    }
   ],
   "source": [
    "plt.figure(figsize=(6.4, 4.8))\n",
    "plt.plot(AMZN_df['4. close'][0:14])\n",
    "\n",
    "# AMZN_df['4. close'][0:14].plot()\n",
    "# AMZN_df['2. high'][0:14].plot()\n",
    "# AMZN_df['3. low'][0:14].plot()\n",
    "\n",
    "plt.title('Daily Time Series: AMZN')\n",
    "plt.xticks(rotation=90)\n",
    "plt.grid()\n",
    "plt.show()\n",
    "# plt.legend(['4. close', '2. high', '3. low'])"
   ]
  },
  {
   "cell_type": "code",
   "execution_count": 36,
   "id": "surprised-constraint",
   "metadata": {},
   "outputs": [
    {
     "data": {
      "text/plain": [
       "pandas.core.series.Series"
      ]
     },
     "execution_count": 36,
     "metadata": {},
     "output_type": "execute_result"
    }
   ],
   "source": [
    "type(AMZN_df['4. close'][0:14])"
   ]
  }
 ],
 "metadata": {
  "kernelspec": {
   "display_name": "Python 3",
   "language": "python",
   "name": "python3"
  },
  "language_info": {
   "codemirror_mode": {
    "name": "ipython",
    "version": 3
   },
   "file_extension": ".py",
   "mimetype": "text/x-python",
   "name": "python",
   "nbconvert_exporter": "python",
   "pygments_lexer": "ipython3",
   "version": "3.9.1"
  }
 },
 "nbformat": 4,
 "nbformat_minor": 5
}
